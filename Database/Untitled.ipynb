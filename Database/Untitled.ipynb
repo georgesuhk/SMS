{
 "cells": [
  {
   "cell_type": "markdown",
   "id": "c4b5169c-65ab-4356-9023-61591e474da1",
   "metadata": {},
   "source": [
    "#### From trying to run with checkpoint file\n"
   ]
  }
 ],
 "metadata": {
  "kernelspec": {
   "display_name": "Python [conda env:Bsc_Project]",
   "language": "python",
   "name": "conda-env-Bsc_Project-py"
  },
  "language_info": {
   "codemirror_mode": {
    "name": "ipython",
    "version": 3
   },
   "file_extension": ".py",
   "mimetype": "text/x-python",
   "name": "python",
   "nbconvert_exporter": "python",
   "pygments_lexer": "ipython3",
   "version": "3.7.1"
  }
 },
 "nbformat": 4,
 "nbformat_minor": 5
}
