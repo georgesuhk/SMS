{
 "cells": [
  {
   "cell_type": "code",
   "execution_count": 1,
   "id": "3fc206ff",
   "metadata": {},
   "outputs": [
    {
     "name": "stderr",
     "output_type": "stream",
     "text": [
      "RDKit WARNING: [17:00:14] Enabling RDKit 2019.09.3 jupyter extensions\n"
     ]
    },
    {
     "name": "stdout",
     "output_type": "stream",
     "text": [
      "2019.09.3\n"
     ]
    }
   ],
   "source": [
    "import sys\n",
    "sys.path.append('../')\n",
    "sys.path.append('../morphing_operations')\n",
    "sys.path.append('.')\n",
    "\n",
    "import time, os, pickle\n",
    "import numpy as np\n",
    "import pandas as pd\n",
    "\n",
    "import rdkit\n",
    "print(rdkit.__version__)\n",
    "from rdkit import rdBase,Chem\n",
    "from rdkit.Chem import AllChem,Draw\n",
    "from rdkit.Chem.Draw import IPythonConsole\n",
    "from rdkit.Chem import rdMolDescriptors\n",
    "from rdkit import RDLogger\n",
    "lg = RDLogger.logger()\n",
    "lg.setLevel(RDLogger.CRITICAL)\n",
    "import tempfile                                                                                                                                                                                                   \n",
    "import os\n",
    "import time\n",
    "import cclib\n",
    "\n",
    "import paramiko\n",
    "from pathlib import Path\n",
    "from ase import Atoms\n",
    "from rdkit.Chem import AllChem\n",
    "\n",
    "from matplotlib import pyplot as plt\n",
    "\n",
    "from Gaussain_Dushin_modules import *\n"
   ]
  },
  {
   "cell_type": "code",
   "execution_count": null,
   "id": "f8ea713e",
   "metadata": {},
   "outputs": [],
   "source": [
    "files = [\n",
    "\"Benzene_Conj_0_C-1S0\",\n",
    "\"Benzene_Conj_0_C0S0\",\n",
    "\"Benzene_Conj_0_C0S1\",\n",
    "\"Benzene_Conj_0_C1S0\",\n",
    "\"Benzene_Conj_1_C-1S0\",\n",
    "\"Benzene_Conj_1_C0S1\",\n",
    "\"Benzene_Conj_1_C1S0\",\n",
    "\"Benzene_Conj_2_C-1S0\",\n",
    "\"Benzene_Conj_2_C0S1\",\n",
    "\"Benzene_Conj_2_C1S0\",\n",
    "\"Benzene_Conj_3_C-1S0\",\n",
    "\"Benzene_Conj_3_C0S1\",\n",
    "\"Benzene_Conj_3_C1S0\",\n",
    "\"Benzene_Conj_4_C-1S0\",\n",
    "\"Benzene_Conj_4_C0S1\",\n",
    "\"Benzene_Conj_4_C1S0\",\n",
    "\"Benzene_Conj_5_C-1S0\",\n",
    "\"Benzene_Conj_5_C0S1\",\n",
    "\"Benzene_Conj_5_C1S0\",\n",
    "\"Circulene_0_C-1S0\",\n",
    "\"Circulene_0_C1S0\",\n",
    "\"Circulene_1_C-1S0\",\n",
    "\"Circulene_1_C1S0\",\n",
    "\"Non-cov-phenyl-N_0_C-1S0\",\n",
    "\"Non-cov-phenyl-N_0_C0S1\",\n",
    "\"Non-cov-phenyl-N_0_C1S0\",\n",
    "\"Non-cov-phenyl-N_1_C-1S0\",\n",
    "\"Non-cov-phenyl-N_1_C0S1\",\n",
    "\"Non-cov-phenyl-N_1_C1S0\",\n",
    "\"Non-cov-phenyl-N_2_C-1S0\",\n",
    "\"Non-cov-phenyl-N_2_C0S1\",\n",
    "\"Non-cov-phenyl-N_2_C1S0\",\n",
    "\"Non-cov-phenyl-N_3_C-1S0\",\n",
    "\"Non-cov-phenyl-N_3_C0S1\",\n",
    "\"Non-cov-phenyl-N_3_C1S0\",\n",
    "\"Non-cov-phenyl-N_4_C-1S0\",\n",
    "\"Non-cov-phenyl-N_4_C0S1\",\n",
    "\"Non-cov-phenyl-N_4_C1S0\",\n",
    "\"Phenyls_0_C-1S0\",\n",
    "\"Phenyls_0_C0S1\",\n",
    "\"Phenyls_0_C1S0\",\n",
    "\"Phenyls_1_C-1S0\",\n",
    "\"Phenyls_1_C0S1\",\n",
    "\"Phenyls_1_C1S0\",\n",
    "\"Phenyls_2_C-1S0\",\n",
    "\"Phenyls_2_C0S1\",\n",
    "\"Phenyls_2_C1S0\",\n",
    "\"Phenyls_3_C-1S0\",\n",
    "\"Phenyls_3_C0S1\",\n",
    "\"Phenyls_3_C1S0\",\n",
    "\"Phenyls_4_C-1S0\",\n",
    "\"Phenyls_4_C0S1\",\n",
    "\"Phenyls_4_C1S0\",\n",
    "]\n",
    "\n",
    "for file in files:\n",
    "    reading_gaussian_output(file)\n",
    "    print(\"done for {}\".format(file))"
   ]
  }
 ],
 "metadata": {
  "kernelspec": {
   "display_name": "Python 3",
   "language": "python",
   "name": "python3"
  },
  "language_info": {
   "codemirror_mode": {
    "name": "ipython",
    "version": 3
   },
   "file_extension": ".py",
   "mimetype": "text/x-python",
   "name": "python",
   "nbconvert_exporter": "python",
   "pygments_lexer": "ipython3",
   "version": "3.7.1"
  }
 },
 "nbformat": 4,
 "nbformat_minor": 5
}
