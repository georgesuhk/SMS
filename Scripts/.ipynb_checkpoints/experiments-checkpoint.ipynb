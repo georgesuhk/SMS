{
 "cells": [
  {
   "cell_type": "markdown",
   "id": "b21f3859-5c3a-4225-9f3e-37eea2a59482",
   "metadata": {},
   "source": [
    "# Experimental features (mostly imcomplete)"
   ]
  },
  {
   "cell_type": "code",
   "execution_count": 1,
   "id": "ec43701c-8119-4299-82a4-45bb2c8333ec",
   "metadata": {},
   "outputs": [
    {
     "ename": "NameError",
     "evalue": "name 'pybel_mol_list' is not defined",
     "output_type": "error",
     "traceback": [
      "\u001b[0;31m---------------------------------------------------------------------------\u001b[0m",
      "\u001b[0;31mNameError\u001b[0m                                 Traceback (most recent call last)",
      "\u001b[0;32m<ipython-input-1-5e5ca38a060b>\u001b[0m in \u001b[0;36m<module>\u001b[0;34m\u001b[0m\n\u001b[1;32m      4\u001b[0m \u001b[0;34m\u001b[0m\u001b[0m\n\u001b[1;32m      5\u001b[0m \u001b[0;34m\u001b[0m\u001b[0m\n\u001b[0;32m----> 6\u001b[0;31m \u001b[0mmol\u001b[0m \u001b[0;34m=\u001b[0m \u001b[0mpybel_mol_list\u001b[0m\u001b[0;34m[\u001b[0m\u001b[0;36m2\u001b[0m\u001b[0;34m]\u001b[0m\u001b[0;34m\u001b[0m\u001b[0;34m\u001b[0m\u001b[0m\n\u001b[0m\u001b[1;32m      7\u001b[0m \u001b[0mfrag1\u001b[0m \u001b[0;34m=\u001b[0m \u001b[0mpb\u001b[0m\u001b[0;34m.\u001b[0m\u001b[0mSmarts\u001b[0m\u001b[0;34m(\u001b[0m\u001b[0;34m'CC3(C)c1cc4c(cc1c2sccc23)C(C)(C)c5ccsc45'\u001b[0m\u001b[0;34m)\u001b[0m\u001b[0;34m\u001b[0m\u001b[0;34m\u001b[0m\u001b[0m\n\u001b[1;32m      8\u001b[0m \u001b[0mfrag2\u001b[0m \u001b[0;34m=\u001b[0m \u001b[0mpb\u001b[0m\u001b[0;34m.\u001b[0m\u001b[0mSmarts\u001b[0m\u001b[0;34m(\u001b[0m\u001b[0;34m'CC(C)n1c(=O)c2ccc3c5ccc6c(=O)[nH]c(=O)c7ccc(c4ccc(c1=O)c2c34)c5c67'\u001b[0m\u001b[0;34m)\u001b[0m\u001b[0;34m\u001b[0m\u001b[0;34m\u001b[0m\u001b[0m\n",
      "\u001b[0;31mNameError\u001b[0m: name 'pybel_mol_list' is not defined"
     ]
    }
   ],
   "source": [
    "#Smarts based substructure identification\n",
    "import openbabel as ob\n",
    "import copy\n",
    "\n",
    "\n",
    "mol = pybel_mol_list[2]\n",
    "frag1 = pb.Smarts('CC3(C)c1cc4c(cc1c2sccc23)C(C)(C)c5ccsc45')\n",
    "frag2 = pb.Smarts('CC(C)n1c(=O)c2ccc3c5ccc6c(=O)[nH]c(=O)c7ccc(c4ccc(c1=O)c2c34)c5c67')\n",
    "\n",
    "frag1_list  = list(frag1.findall(mol)[0])\n",
    "frag2_list  = list(frag2.findall(mol)[0])\n",
    "bridge_list = []\n",
    "hydrogen_atom_list = []\n",
    "for atom in mol.atoms:\n",
    "    if atom.idx not in frag1_list and atom.idx not in frag2_list:\n",
    "        if atom.atomicnum == 1:\n",
    "            hydrogen_atom_list.append(atom)\n",
    "        else:\n",
    "            bridge_list.append(atom.idx)\n",
    "\n",
    "\n",
    "for atom in hydrogen_atom_list:\n",
    "    for neighbour in ob.OBAtomAtomIter(atom.OBAtom):\n",
    "        if neighbour.GetIdx() in frag1_list:\n",
    "            frag1_list.append(atom.idx)\n",
    "        elif neighbour.GetIdx() in frag2_list:\n",
    "            frag2_list.append(atom.idx)\n",
    "        elif neighbour.GetIdx() in bridge_list:\n",
    "            bridge_list.append(atom.idx)\n",
    "        else:\n",
    "            print(\"not in any list, ERROR\")\n",
    "            sys.exit()"
   ]
  }
 ],
 "metadata": {
  "kernelspec": {
   "display_name": "Python [conda env:Bsc_Project]",
   "language": "python",
   "name": "conda-env-Bsc_Project-py"
  },
  "language_info": {
   "codemirror_mode": {
    "name": "ipython",
    "version": 3
   },
   "file_extension": ".py",
   "mimetype": "text/x-python",
   "name": "python",
   "nbconvert_exporter": "python",
   "pygments_lexer": "ipython3",
   "version": "3.7.1"
  }
 },
 "nbformat": 4,
 "nbformat_minor": 5
}
