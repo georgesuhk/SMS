{
 "cells": [
  {
   "cell_type": "code",
   "execution_count": 134,
   "id": "6ebff862",
   "metadata": {},
   "outputs": [
    {
     "ename": "FileNotFoundError",
     "evalue": "[Errno 2] No such file or directory: '/home/inferno/Bsc_Project/chem_structures/TT_PDI.csv'",
     "output_type": "error",
     "traceback": [
      "\u001b[0;31m---------------------------------------------------------------------------\u001b[0m",
      "\u001b[0;31mFileNotFoundError\u001b[0m                         Traceback (most recent call last)",
      "\u001b[0;32m<ipython-input-134-f065495c8bb5>\u001b[0m in \u001b[0;36m<module>\u001b[0;34m\u001b[0m\n\u001b[1;32m     30\u001b[0m \u001b[0;34m\u001b[0m\u001b[0m\n\u001b[1;32m     31\u001b[0m \u001b[0;31m#loading molecules from list\u001b[0m\u001b[0;34m\u001b[0m\u001b[0;34m\u001b[0m\u001b[0;34m\u001b[0m\u001b[0m\n\u001b[0;32m---> 32\u001b[0;31m \u001b[0msmiles_list\u001b[0m \u001b[0;34m=\u001b[0m \u001b[0mpd\u001b[0m\u001b[0;34m.\u001b[0m\u001b[0mread_csv\u001b[0m\u001b[0;34m(\u001b[0m\u001b[0;34m'/home/inferno/Bsc_Project/chem_structures/'\u001b[0m\u001b[0;34m+\u001b[0m\u001b[0minput_file\u001b[0m\u001b[0;34m+\u001b[0m\u001b[0;34m\".csv\"\u001b[0m\u001b[0;34m)\u001b[0m\u001b[0;34m\u001b[0m\u001b[0;34m\u001b[0m\u001b[0m\n\u001b[0m\u001b[1;32m     33\u001b[0m \u001b[0;34m\u001b[0m\u001b[0m\n\u001b[1;32m     34\u001b[0m \u001b[0;31m#converting\u001b[0m\u001b[0;34m\u001b[0m\u001b[0;34m\u001b[0m\u001b[0;34m\u001b[0m\u001b[0m\n",
      "\u001b[0;32m~/anaconda3/envs/Bsc_Project/lib/python3.7/site-packages/pandas/io/parsers.py\u001b[0m in \u001b[0;36mread_csv\u001b[0;34m(filepath_or_buffer, sep, delimiter, header, names, index_col, usecols, squeeze, prefix, mangle_dupe_cols, dtype, engine, converters, true_values, false_values, skipinitialspace, skiprows, skipfooter, nrows, na_values, keep_default_na, na_filter, verbose, skip_blank_lines, parse_dates, infer_datetime_format, keep_date_col, date_parser, dayfirst, cache_dates, iterator, chunksize, compression, thousands, decimal, lineterminator, quotechar, quoting, doublequote, escapechar, comment, encoding, dialect, error_bad_lines, warn_bad_lines, delim_whitespace, low_memory, memory_map, float_precision)\u001b[0m\n\u001b[1;32m    684\u001b[0m     )\n\u001b[1;32m    685\u001b[0m \u001b[0;34m\u001b[0m\u001b[0m\n\u001b[0;32m--> 686\u001b[0;31m     \u001b[0;32mreturn\u001b[0m \u001b[0m_read\u001b[0m\u001b[0;34m(\u001b[0m\u001b[0mfilepath_or_buffer\u001b[0m\u001b[0;34m,\u001b[0m \u001b[0mkwds\u001b[0m\u001b[0;34m)\u001b[0m\u001b[0;34m\u001b[0m\u001b[0;34m\u001b[0m\u001b[0m\n\u001b[0m\u001b[1;32m    687\u001b[0m \u001b[0;34m\u001b[0m\u001b[0m\n\u001b[1;32m    688\u001b[0m \u001b[0;34m\u001b[0m\u001b[0m\n",
      "\u001b[0;32m~/anaconda3/envs/Bsc_Project/lib/python3.7/site-packages/pandas/io/parsers.py\u001b[0m in \u001b[0;36m_read\u001b[0;34m(filepath_or_buffer, kwds)\u001b[0m\n\u001b[1;32m    450\u001b[0m \u001b[0;34m\u001b[0m\u001b[0m\n\u001b[1;32m    451\u001b[0m     \u001b[0;31m# Create the parser.\u001b[0m\u001b[0;34m\u001b[0m\u001b[0;34m\u001b[0m\u001b[0;34m\u001b[0m\u001b[0m\n\u001b[0;32m--> 452\u001b[0;31m     \u001b[0mparser\u001b[0m \u001b[0;34m=\u001b[0m \u001b[0mTextFileReader\u001b[0m\u001b[0;34m(\u001b[0m\u001b[0mfp_or_buf\u001b[0m\u001b[0;34m,\u001b[0m \u001b[0;34m**\u001b[0m\u001b[0mkwds\u001b[0m\u001b[0;34m)\u001b[0m\u001b[0;34m\u001b[0m\u001b[0;34m\u001b[0m\u001b[0m\n\u001b[0m\u001b[1;32m    453\u001b[0m \u001b[0;34m\u001b[0m\u001b[0m\n\u001b[1;32m    454\u001b[0m     \u001b[0;32mif\u001b[0m \u001b[0mchunksize\u001b[0m \u001b[0;32mor\u001b[0m \u001b[0miterator\u001b[0m\u001b[0;34m:\u001b[0m\u001b[0;34m\u001b[0m\u001b[0;34m\u001b[0m\u001b[0m\n",
      "\u001b[0;32m~/anaconda3/envs/Bsc_Project/lib/python3.7/site-packages/pandas/io/parsers.py\u001b[0m in \u001b[0;36m__init__\u001b[0;34m(self, f, engine, **kwds)\u001b[0m\n\u001b[1;32m    934\u001b[0m             \u001b[0mself\u001b[0m\u001b[0;34m.\u001b[0m\u001b[0moptions\u001b[0m\u001b[0;34m[\u001b[0m\u001b[0;34m\"has_index_names\"\u001b[0m\u001b[0;34m]\u001b[0m \u001b[0;34m=\u001b[0m \u001b[0mkwds\u001b[0m\u001b[0;34m[\u001b[0m\u001b[0;34m\"has_index_names\"\u001b[0m\u001b[0;34m]\u001b[0m\u001b[0;34m\u001b[0m\u001b[0;34m\u001b[0m\u001b[0m\n\u001b[1;32m    935\u001b[0m \u001b[0;34m\u001b[0m\u001b[0m\n\u001b[0;32m--> 936\u001b[0;31m         \u001b[0mself\u001b[0m\u001b[0;34m.\u001b[0m\u001b[0m_make_engine\u001b[0m\u001b[0;34m(\u001b[0m\u001b[0mself\u001b[0m\u001b[0;34m.\u001b[0m\u001b[0mengine\u001b[0m\u001b[0;34m)\u001b[0m\u001b[0;34m\u001b[0m\u001b[0;34m\u001b[0m\u001b[0m\n\u001b[0m\u001b[1;32m    937\u001b[0m \u001b[0;34m\u001b[0m\u001b[0m\n\u001b[1;32m    938\u001b[0m     \u001b[0;32mdef\u001b[0m \u001b[0mclose\u001b[0m\u001b[0;34m(\u001b[0m\u001b[0mself\u001b[0m\u001b[0;34m)\u001b[0m\u001b[0;34m:\u001b[0m\u001b[0;34m\u001b[0m\u001b[0;34m\u001b[0m\u001b[0m\n",
      "\u001b[0;32m~/anaconda3/envs/Bsc_Project/lib/python3.7/site-packages/pandas/io/parsers.py\u001b[0m in \u001b[0;36m_make_engine\u001b[0;34m(self, engine)\u001b[0m\n\u001b[1;32m   1166\u001b[0m     \u001b[0;32mdef\u001b[0m \u001b[0m_make_engine\u001b[0m\u001b[0;34m(\u001b[0m\u001b[0mself\u001b[0m\u001b[0;34m,\u001b[0m \u001b[0mengine\u001b[0m\u001b[0;34m=\u001b[0m\u001b[0;34m\"c\"\u001b[0m\u001b[0;34m)\u001b[0m\u001b[0;34m:\u001b[0m\u001b[0;34m\u001b[0m\u001b[0;34m\u001b[0m\u001b[0m\n\u001b[1;32m   1167\u001b[0m         \u001b[0;32mif\u001b[0m \u001b[0mengine\u001b[0m \u001b[0;34m==\u001b[0m \u001b[0;34m\"c\"\u001b[0m\u001b[0;34m:\u001b[0m\u001b[0;34m\u001b[0m\u001b[0;34m\u001b[0m\u001b[0m\n\u001b[0;32m-> 1168\u001b[0;31m             \u001b[0mself\u001b[0m\u001b[0;34m.\u001b[0m\u001b[0m_engine\u001b[0m \u001b[0;34m=\u001b[0m \u001b[0mCParserWrapper\u001b[0m\u001b[0;34m(\u001b[0m\u001b[0mself\u001b[0m\u001b[0;34m.\u001b[0m\u001b[0mf\u001b[0m\u001b[0;34m,\u001b[0m \u001b[0;34m**\u001b[0m\u001b[0mself\u001b[0m\u001b[0;34m.\u001b[0m\u001b[0moptions\u001b[0m\u001b[0;34m)\u001b[0m\u001b[0;34m\u001b[0m\u001b[0;34m\u001b[0m\u001b[0m\n\u001b[0m\u001b[1;32m   1169\u001b[0m         \u001b[0;32melse\u001b[0m\u001b[0;34m:\u001b[0m\u001b[0;34m\u001b[0m\u001b[0;34m\u001b[0m\u001b[0m\n\u001b[1;32m   1170\u001b[0m             \u001b[0;32mif\u001b[0m \u001b[0mengine\u001b[0m \u001b[0;34m==\u001b[0m \u001b[0;34m\"python\"\u001b[0m\u001b[0;34m:\u001b[0m\u001b[0;34m\u001b[0m\u001b[0;34m\u001b[0m\u001b[0m\n",
      "\u001b[0;32m~/anaconda3/envs/Bsc_Project/lib/python3.7/site-packages/pandas/io/parsers.py\u001b[0m in \u001b[0;36m__init__\u001b[0;34m(self, src, **kwds)\u001b[0m\n\u001b[1;32m   1996\u001b[0m         \u001b[0mkwds\u001b[0m\u001b[0;34m[\u001b[0m\u001b[0;34m\"usecols\"\u001b[0m\u001b[0;34m]\u001b[0m \u001b[0;34m=\u001b[0m \u001b[0mself\u001b[0m\u001b[0;34m.\u001b[0m\u001b[0musecols\u001b[0m\u001b[0;34m\u001b[0m\u001b[0;34m\u001b[0m\u001b[0m\n\u001b[1;32m   1997\u001b[0m \u001b[0;34m\u001b[0m\u001b[0m\n\u001b[0;32m-> 1998\u001b[0;31m         \u001b[0mself\u001b[0m\u001b[0;34m.\u001b[0m\u001b[0m_reader\u001b[0m \u001b[0;34m=\u001b[0m \u001b[0mparsers\u001b[0m\u001b[0;34m.\u001b[0m\u001b[0mTextReader\u001b[0m\u001b[0;34m(\u001b[0m\u001b[0msrc\u001b[0m\u001b[0;34m,\u001b[0m \u001b[0;34m**\u001b[0m\u001b[0mkwds\u001b[0m\u001b[0;34m)\u001b[0m\u001b[0;34m\u001b[0m\u001b[0;34m\u001b[0m\u001b[0m\n\u001b[0m\u001b[1;32m   1999\u001b[0m         \u001b[0mself\u001b[0m\u001b[0;34m.\u001b[0m\u001b[0munnamed_cols\u001b[0m \u001b[0;34m=\u001b[0m \u001b[0mself\u001b[0m\u001b[0;34m.\u001b[0m\u001b[0m_reader\u001b[0m\u001b[0;34m.\u001b[0m\u001b[0munnamed_cols\u001b[0m\u001b[0;34m\u001b[0m\u001b[0;34m\u001b[0m\u001b[0m\n\u001b[1;32m   2000\u001b[0m \u001b[0;34m\u001b[0m\u001b[0m\n",
      "\u001b[0;32mpandas/_libs/parsers.pyx\u001b[0m in \u001b[0;36mpandas._libs.parsers.TextReader.__cinit__\u001b[0;34m()\u001b[0m\n",
      "\u001b[0;32mpandas/_libs/parsers.pyx\u001b[0m in \u001b[0;36mpandas._libs.parsers.TextReader._setup_parser_source\u001b[0;34m()\u001b[0m\n",
      "\u001b[0;31mFileNotFoundError\u001b[0m: [Errno 2] No such file or directory: '/home/inferno/Bsc_Project/chem_structures/TT_PDI.csv'"
     ]
    }
   ],
   "source": [
    "from Gaussain_Dushin_modules import *\n",
    "\n",
    "#INPUTS ====================================================\n",
    "input_file = \"TT_PDI\"\n",
    "draw = False\n",
    "states = [2] #initial state, final state\n",
    "charges = [0] #initial charge, final charge\n",
    "\n",
    "\n",
    "functional_basis = \"b3lyp/6-311g(d,p)\"\n",
    "#functional_basis = \"CAM-B3LYP/6-311g(d,p)\"\n",
    "#functional_basis = \"wB97XD/6-311g(d,p)\"\n",
    "#============================================================\n",
    "\n",
    "#set once for each user ------------------------------------------------------\n",
    "hostname = 'login.hpc.ic.ac.uk'\n",
    "\n",
    "username = 'gs920'\n",
    "password= \"Illusions9\"\n",
    "\n",
    "#username = 'ma11115'\n",
    "#password = 'Baha140821'\n",
    "\n",
    "project_folder_name = \"Stage2/\"\n",
    "#project_folder_name = \"george_project/\"\n",
    "\n",
    "#-----------------------------------------------------------------------------\n",
    "\n",
    "\n",
    "\n",
    "#loading molecules from list\n",
    "smiles_list = pd.read_csv('/home/inferno/Bsc_Project/chem_structures/'+input_file+\".csv\")\n",
    "\n",
    "#converting\n",
    "input_structures = [Chem.MolFromSmiles(x) for x in smiles_list[\"smiles string\"]]\n",
    "input_visual=Draw.MolsToGridImage(input_structures,molsPerRow=4,subImgSize=(200,200)) \n",
    "pybel_mol_list = pybel_readsmiles(smiles_list[\"smiles string\"], 2000)\n",
    "\n",
    "\n",
    "mol_list = input_structures\n",
    "mol_list_name = input_file  #serial for molecule\n",
    "\n",
    "\n",
    "#folders\n",
    "#remote\n",
    "remote_base_folder =\"/rds/general/user/\"+username+\"/home/\"\n",
    "remote_project_folder = remote_base_folder+project_folder_name\n",
    "remote_bin_path = \"PATH=\"+remote_base_folder+\"bin:$PATH\"\n",
    "\n",
    "remote_folder = remote_project_folder+input_file+\"/\"\n",
    "remote_dushin_folder = remote_project_folder+\"dushin_operations/\"\n",
    "\n",
    "renamed_fb = functional_basis.split(\"/\")[0] + \"_\" + functional_basis.split(\"/\")[1].split(\"(\")[0]  #renamed functional basis to make it able to be a folder\n",
    "remote_basis_folder = remote_folder+renamed_fb+\"/\"\n",
    "\n",
    "#local\n",
    "local_folder_base = \"../\"\n",
    "xyz_folder = local_folder_base + \"Scripts/xyz_files/\"\n",
    "dushin_output_folder = local_folder_base + \"Scripts/dushin_outputs/\"\n",
    "sh_output_folder = local_folder_base + \"sh_files/\"\n",
    "theodore_run_folder = local_folder_base + \"Scripts/Theodore_runs/\"\n",
    "\n",
    "#folders for database\n",
    "drawing_folder = local_folder_base+\"Database/Mol_images/\"\n",
    "dushin_save_folder = local_folder_base+\"Database/Reorg_Energy/Stage2/\"\n",
    "dushin_image_save_folder = local_folder_base+\"Database/Reorg_Energy/plots/\"\n",
    "gaussian_save_folder = local_folder_base+\"Database/Gaussian_outputs/Stage2/\"\n",
    "\n",
    "\n",
    "\n",
    "#drawing molecule for reference\n",
    "if draw:\n",
    "    for mol_num in range(0,len(mol_list)):\n",
    "        Draw.MolToFile(mol_list[mol_num], drawing_folder+mol_list_name+\"_\"+str(mol_num)+\".png\")\n",
    "        \n",
    "#Basis set settings\n",
    "norm_functional_basis = \"b3lyp/6-311g(d,p)\" #the default or \"normal\" functional basis set\n",
    "\n",
    "\n",
    "#info about system being ran\n",
    "print(\"functional and basis: \", functional_basis)\n",
    "print(\"states: \", states)\n",
    "print(\"charges: \",charges)\n",
    "\n",
    "print(\"mol_list_name: \", mol_list_name)\n",
    "print(\"Raw smiles list:\")\n",
    "print(smiles_list)\n",
    "\n",
    "input_visual"
   ]
  },
  {
   "cell_type": "markdown",
   "id": "65f1b8e3",
   "metadata": {},
   "source": [
    "### Manual Upload"
   ]
  },
  {
   "cell_type": "code",
   "execution_count": null,
   "id": "c49db0e2",
   "metadata": {},
   "outputs": [],
   "source": [
    "#Manual upload, Aimed for the short queue\n",
    "\n",
    "for mol_num in range(0,len(mol_list)):\n",
    "    mol_xyz = generate_XYZgeo_from_mol(mol_list, mol_list_name, mol_num, theodore_run_folder)\n",
    "    for state_num in range(0,len(states)):\n",
    "        gjf_file = generate_Gjf_optfreqStates(mol_list, mol_list_name, mol_xyz, mol_num, states[state_num], charges[state_num], output_folder = sh_output_folder)\n",
    "        generate_shfile_gaussian(output_folder = sh_output_folder, walltime='07:59:00', memory=\"32gb\", ncpus=30, timeout=\"8h\", molnumber= mol_num,\n",
    "                             Excited_state = states[state_num], mollist_name= mol_list, gjf_file=gjf_file)\n",
    "        print(\"Gaussian inputs generated for \",mol_list_name+\"_\"+str(mol_num))\n",
    "\n"
   ]
  },
  {
   "cell_type": "markdown",
   "id": "50e8c800",
   "metadata": {},
   "source": [
    "#### Automatic Upload to HPC"
   ]
  },
  {
   "cell_type": "code",
   "execution_count": 131,
   "id": "f3af68c7",
   "metadata": {},
   "outputs": [
    {
     "name": "stdout",
     "output_type": "stream",
     "text": [
      "Status =  Started\n"
     ]
    },
    {
     "name": "stderr",
     "output_type": "stream",
     "text": [
      "/home/inferno/anaconda3/envs/Bsc_Project/lib/python3.7/site-packages/paramiko/client.py:839: UserWarning: Unknown ssh-ed25519 host key for login.hpc.ic.ac.uk: b'e34c53f357c63885633fb0f904838138'\n",
      "  key.get_name(), hostname, hexlify(key.get_fingerprint())\n"
     ]
    },
    {
     "name": "stdout",
     "output_type": "stream",
     "text": [
      "Standard error:\n",
      "b''\n",
      "Exit status: 0\n",
      "Queued job for:  TT_0_C0S1\n",
      "Standard error:\n",
      "b''\n",
      "Exit status: 0\n",
      "Queued job for:  TT_0_C1S0\n",
      "Standard error:\n",
      "b''\n",
      "Exit status: 0\n",
      "Queued job for:  TT_0_C0S0\n",
      "Standard error:\n",
      "b''\n",
      "Exit status: 0\n",
      "Queued job for:  TT_1_C0S1\n",
      "Standard error:\n",
      "b''\n",
      "Exit status: 0\n",
      "Queued job for:  TT_1_C1S0\n",
      "Standard error:\n",
      "b''\n",
      "Exit status: 0\n",
      "Queued job for:  TT_1_C0S0\n",
      "All Jobs uploaded\n"
     ]
    }
   ],
   "source": [
    "status = \"Started\"\n",
    "print(\"Status = \", status)\n",
    "\n",
    "#conversion from smiles to gjf\n",
    "\n",
    "for mol_num in range(0,len(mol_list)):\n",
    "#for mol_num in [0]:\n",
    "    \n",
    "    #mol_xyz, n_atoms = generate_XYZgeo_from_mol(mol_list, mol_list_name, mol_num, os.getcwd()+\"/\", save=False)\n",
    "    mol_xyz, n_atoms = pybel_xyz_fromMol(pybel_mol_list, mol_list_name, mol_num, xyz_folder) #experimental feature, using pybel to preoptimize geometry\n",
    "\n",
    "    for state_num in range(0,len(states)):\n",
    "        gjf_file = generate_Gjf_optfreqStates(mol_list, mol_list_name, mol_xyz, mol_num, states[state_num], charges[state_num],\\\n",
    "                                              functional_basisset=functional_basis)\n",
    "        \n",
    "        if n_atoms < 50 and states[state_num] == 0: #targeted at short queue\n",
    "            generate_shfile_gaussian(walltime='07:59:00', memory=\"60gb\", ncpus=48, timeout=\"8h\", molnumber= mol_num,\\\n",
    "                                     Excited_state = states[state_num], mollist_name= mol_list, gjf_file=gjf_file)\n",
    "                \n",
    "            \n",
    "        else:            #targeted at medium queue\n",
    "            generate_shfile_gaussian(walltime='36:00:00', memory=\"60gb\", ncpus=100, timeout=\"36h\", molnumber= mol_num,\\\n",
    "                                     Excited_state = states[state_num], mollist_name= mol_list, gjf_file=gjf_file)\n",
    "        \n",
    "        if functional_basis != norm_functional_basis:\n",
    "            run_job_HPC(hostname = hostname,username = username, password = password, remotefolder = remote_basis_folder,\\\n",
    "                             molnumber = mol_num, Excited_state = states[state_num],mollist_name= mol_list_name, gjf_file= gjf_file)\n",
    "        else:\n",
    "            run_job_HPC(hostname = hostname,username = username, password = password, remotefolder = remote_folder,\\\n",
    "                             molnumber = mol_num, Excited_state = states[state_num],mollist_name= mol_list_name, gjf_file= gjf_file)\n",
    "        \n",
    "\n",
    "            \n",
    "        \n",
    "        print(\"Queued job for: \",gjf_file)\n",
    "        os.remove(gjf_file+\".gjf\")\n",
    "        os.remove(gjf_file+\".sh\")\n",
    "        \n",
    "print(\"All Jobs uploaded\")  \n"
   ]
  },
  {
   "cell_type": "markdown",
   "id": "978f30be",
   "metadata": {},
   "source": [
    "## Jobs completed\n",
    "#### Just reading and saving Gaussian"
   ]
  },
  {
   "cell_type": "code",
   "execution_count": 101,
   "id": "33a400a9-59f6-402e-b378-00d5b381eae6",
   "metadata": {},
   "outputs": [
    {
     "name": "stderr",
     "output_type": "stream",
     "text": [
      "/home/inferno/anaconda3/envs/Bsc_Project/lib/python3.7/site-packages/paramiko/client.py:839: UserWarning: Unknown ssh-ed25519 host key for login.hpc.ic.ac.uk: b'e34c53f357c63885633fb0f904838138'\n",
      "  key.get_name(), hostname, hexlify(key.get_fingerprint())\n"
     ]
    },
    {
     "name": "stdout",
     "output_type": "stream",
     "text": [
      "Gaussian outputs read and stored for TT_0_C0S0\n",
      "Gaussian outputs read and stored for TT_1_C0S0\n"
     ]
    }
   ],
   "source": [
    "Error_mol_list = []\n",
    "        \n",
    "#for mol_num in [1]:\n",
    "for mol_num in range(0,len(mol_list)):\n",
    "    try:\n",
    "        for state_num in range(0,len(states)):\n",
    "            state = \"C\" + str(charges[state_num]) + \"S\" + str(states[state_num])\n",
    "            \n",
    "            #transfer gaussian log to local to parse, store useful data, and then delete log file\n",
    "            mol_serial = mol_list_name+\"_\"+str(mol_num)+\"_\"+state\n",
    "            reading_gaussian_output(hostname, username, password, remote_folder, gaussian_save_folder, mol_serial, functional_basis)\n",
    "    except Exception as e:\n",
    "        print(e)\n",
    "        Error_mol_list.append(mol_serial)\n"
   ]
  },
  {
   "cell_type": "markdown",
   "id": "9298f424-b690-4b45-9a52-5d6d17be69b9",
   "metadata": {},
   "source": [
    "#### Running Dushin and reading Gaussian"
   ]
  },
  {
   "cell_type": "code",
   "execution_count": 125,
   "id": "c8ee2aba",
   "metadata": {},
   "outputs": [
    {
     "name": "stdout",
     "output_type": "stream",
     "text": [
      "\n",
      "\n",
      "Gaussian outputs read and stored for IDT-A_3_C0S3\n",
      "Gaussian outputs read and stored for IDT-A_3_C0S2\n",
      "remote folder = /rds/general/user/gs920/home/Stage2/IDT-A/\n",
      "Dushin operating for:  IDT-A_3   C0S2   C0S3\n",
      "Standard output:\n",
      "b'/rds/general/user/gs920/home/Stage2/dushin_operations\\n'\n",
      "Standard error:\n",
      "b\"cp: cannot stat 'IDT-A_3_C0S2.fchk': No such file or directory\\n/rds/general/user/gs920/home/bin/rundushin.sh: line 30: module: command not found\\n Nber of molecules processed=           2\\n\"\n",
      "Exit status: 0\n",
      "Dushin error for  IDT-A_3\n",
      "list index out of range\n"
     ]
    }
   ],
   "source": [
    "Error_mol_list = []\n",
    "        \n",
    "for mol_num in [3]:\n",
    "#for mol_num in range(0,len(mol_list)):\n",
    "    try:\n",
    "        for state_num in range(0,len(states),2):\n",
    "            initial_state = \"C\" + str(charges[state_num]) + \"S\" + str(states[state_num])\n",
    "            final_state = \"C\" + str(charges[state_num+1]) + \"S\" + str(states[state_num+1])\n",
    "            print(\"\\n\") #separation of printed output for clarity\n",
    "\n",
    "\n",
    "            #transfer gaussian log to local to parse, store useful data, and then delete log file\n",
    "            mol_serial = mol_list_name+\"_\"+str(mol_num)+\"_\"+final_state\n",
    "            reading_gaussian_output(hostname, username, password, remote_folder, gaussian_save_folder, mol_serial, functional_basis)\n",
    "            \n",
    "            mol_serial = mol_list_name+\"_\"+str(mol_num)+\"_\"+initial_state\n",
    "            reading_gaussian_output(hostname, username, password, remote_folder, gaussian_save_folder, mol_serial, functional_basis)\n",
    "\n",
    "            #running and storing dushin\n",
    "            if functional_basis != norm_functional_basis:\n",
    "                print(\"remote folder =\", remote_basis_folder)\n",
    "                run_dushin(hostname, username, password, remote_basis_folder, remote_bin_path, remote_dushin_folder, mol_list, mol_list_name, mol_num, initial_state, final_state)\n",
    "            \n",
    "            else:\n",
    "                print(\"remote folder =\", remote_folder)\n",
    "\n",
    "                run_dushin(hostname, username, password, remote_folder, remote_bin_path, remote_dushin_folder, mol_list, mol_list_name, mol_num, initial_state, final_state)\n",
    "\n",
    "\n",
    "            filename = \"dushin\"+mol_list_name+\"_\"+str(mol_num)+\"_\"+initial_state+\"_\"+final_state+\".log\"\n",
    "            transfer_from_HPC(hostname, username, password, dushin_output_folder, remote_dushin_folder, filename)\n",
    "            reading_graphing_dushin_output(dushin_output_folder, dushin_save_folder, dushin_image_save_folder, filename, functional_basis)\n",
    "    except Exception as e:\n",
    "        print(\"Dushin error for \",mol_list_name+\"_\"+str(mol_num))\n",
    "        print(e)\n",
    "        Error_mol_list.append(mol_list_name+\"_\"+str(mol_num))\n",
    "        "
   ]
  }
 ],
 "metadata": {
  "kernelspec": {
   "display_name": "Python [conda env:Bsc_Project]",
   "language": "python",
   "name": "conda-env-Bsc_Project-py"
  },
  "language_info": {
   "codemirror_mode": {
    "name": "ipython",
    "version": 3
   },
   "file_extension": ".py",
   "mimetype": "text/x-python",
   "name": "python",
   "nbconvert_exporter": "python",
   "pygments_lexer": "ipython3",
   "version": "3.7.1"
  }
 },
 "nbformat": 4,
 "nbformat_minor": 5
}
