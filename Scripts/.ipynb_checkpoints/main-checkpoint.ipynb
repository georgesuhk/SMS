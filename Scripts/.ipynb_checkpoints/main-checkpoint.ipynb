{
 "cells": [
  {
   "cell_type": "markdown",
   "id": "20ab9a7b",
   "metadata": {},
   "source": [
    "# Start of script"
   ]
  },
  {
   "cell_type": "code",
   "execution_count": 10,
   "id": "1829b7d1",
   "metadata": {},
   "outputs": [
    {
     "name": "stdout",
     "output_type": "stream",
     "text": [
      "mol_list_name:  phenothiazine-pyrene\n",
      "Raw smiles list:\n",
      "                                                name  \\\n",
      "0                             N-Pyrenylphenothiazine   \n",
      "1    10-[3- (Pyrene-1-yl)-phenyl]-10-H-phenothiazine   \n",
      "2       10-[4-(pyrene1-yl)-phenyl]-10H-phenothiazine   \n",
      "3  3-[4-(1-pyrenyl)-phenyl]- 10-methyl-10H-phenot...   \n",
      "\n",
      "                                       smiles string  \n",
      "0   c1ccc3c(c1)sc2ccccc2n3c4cc5ccc6cccc7ccc(c4)c5c67  \n",
      "1  c8cc(c1ccc2ccc3cccc4ccc1c2c34)cc(n7c5ccccc5sc6...  \n",
      "2  c1ccc3c(c1)sc2ccccc2n3c8ccc(c4ccc5ccc6cccc7ccc...  \n",
      "3  Cn8c1ccccc1sc7cc(c6ccc(c2ccc3ccc4cccc5ccc2c3c4...  \n"
     ]
    },
    {
     "data": {
      "image/png": "[encoded data removed]",
      "text/plain": [
       "<PIL.PngImagePlugin.PngImageFile image mode=RGB size=800x200 at 0x7FBAC8717588>"
      ]
     },
     "execution_count": 10,
     "metadata": {},
     "output_type": "execute_result"
    }
   ],
   "source": [
    "from Gaussain_Dushin_modules import *\n",
    "\n",
    "#INPUTS ====================================================\n",
    "input_file = \"phenothiazine-pyrene\"\n",
    "run_theodore = True\n",
    "states = [1,2,3,4] #initial state, final state\n",
    "charges = [0,0,0,0] #initial charge, final charge\n",
    "\n",
    "#============================================================\n",
    "\n",
    "#loading molecules from list\n",
    "smiles_list = pd.read_csv('/home/inferno/Bsc_Project/chem_structures/'+input_file+\".csv\")\n",
    "\n",
    "#converting\n",
    "input_structures = [Chem.MolFromSmiles(x) for x in smiles_list[\"smiles string\"]]\n",
    "input_visual=Draw.MolsToGridImage(input_structures,molsPerRow=4,subImgSize=(200,200))  \n",
    "\n",
    "\n",
    "mol_list = input_structures\n",
    "mol_list_name = input_file  #serial for molecule\n",
    "\n",
    "remote_folder=\"/rds/general/user/gs920/home/Stage2/\"\n",
    "dushin_output_folder = os.getcwd()+\"/dushin_outputs/\"\n",
    "theodore_installation_folder = \"/home/inferno/Bsc_Project/TheoDORE_3.0/\"\n",
    "theodore_run_folder = os.getcwd()+\"/Theodore_runs/\"\n",
    "hostname = 'login.hpc.ic.ac.uk'\n",
    "username = 'gs920'\n",
    "password= \"Illusions9\"\n",
    "\n",
    "\n",
    "\n",
    "#info about system being ran\n",
    "\n",
    "print(\"mol_list_name: \", mol_list_name)\n",
    "print(\"Raw smiles list:\")\n",
    "print(smiles_list)\n",
    "\n",
    "input_visual"
   ]
  },
  {
   "cell_type": "code",
   "execution_count": 5,
   "id": "fec7bd80",
   "metadata": {},
   "outputs": [
    {
     "name": "stdout",
     "output_type": "stream",
     "text": [
      "Status =  Started\n"
     ]
    },
    {
     "name": "stderr",
     "output_type": "stream",
     "text": [
      "/home/inferno/anaconda3/envs/Bsc_Project/lib/python3.7/site-packages/paramiko/client.py:839: UserWarning: Unknown ssh-ed25519 host key for login.hpc.ic.ac.uk: b'e34c53f357c63885633fb0f904838138'\n",
      "  key.get_name(), hostname, hexlify(key.get_fingerprint())\n"
     ]
    },
    {
     "name": "stdout",
     "output_type": "stream",
     "text": [
      "Standard error:\n",
      "b''\n",
      "Exit status: 0\n",
      "Queued job for:  phenothiazine-pyrene_0_C-2S0\n",
      "Standard error:\n",
      "b''\n",
      "Exit status: 0\n",
      "Queued job for:  phenothiazine-pyrene_0_C-3S0\n",
      "Standard error:\n",
      "b''\n",
      "Exit status: 0\n",
      "Queued job for:  phenothiazine-pyrene_1_C-2S0\n",
      "Standard error:\n",
      "b''\n",
      "Exit status: 0\n",
      "Queued job for:  phenothiazine-pyrene_1_C-3S0\n",
      "Standard error:\n"
     ]
    },
    {
     "ename": "KeyboardInterrupt",
     "evalue": "",
     "output_type": "error",
     "traceback": [
      "\u001b[0;31m---------------------------------------------------------------------------\u001b[0m",
      "\u001b[0;31mKeyboardInterrupt\u001b[0m                         Traceback (most recent call last)",
      "\u001b[0;32m<ipython-input-5-858f6c4ee338>\u001b[0m in \u001b[0;36m<module>\u001b[0;34m\u001b[0m\n\u001b[1;32m     10\u001b[0m                              Excited_state = states[state_num], mollist_name= mol_list, gjf_file=gjf_file)\n\u001b[1;32m     11\u001b[0m         run_job_HPC(hostname = hostname,username = username, password = password, remotefolder = remote_folder,\\\n\u001b[0;32m---> 12\u001b[0;31m                              molnumber = mol_num, Excited_state = states[state_num],mollist_name= mol_list_name, gjf_file= gjf_file)\n\u001b[0m\u001b[1;32m     13\u001b[0m         \u001b[0mprint\u001b[0m\u001b[0;34m(\u001b[0m\u001b[0;34m\"Queued job for: \"\u001b[0m\u001b[0;34m,\u001b[0m\u001b[0mgjf_file\u001b[0m\u001b[0;34m)\u001b[0m\u001b[0;34m\u001b[0m\u001b[0;34m\u001b[0m\u001b[0m\n\u001b[1;32m     14\u001b[0m         \u001b[0mos\u001b[0m\u001b[0;34m.\u001b[0m\u001b[0mremove\u001b[0m\u001b[0;34m(\u001b[0m\u001b[0mgjf_file\u001b[0m\u001b[0;34m+\u001b[0m\u001b[0;34m\".gjf\"\u001b[0m\u001b[0;34m)\u001b[0m\u001b[0;34m\u001b[0m\u001b[0;34m\u001b[0m\u001b[0m\n",
      "\u001b[0;32m~/Bsc_Project/Scripts/Gaussain_Dushin_modules.py\u001b[0m in \u001b[0;36mrun_job_HPC\u001b[0;34m(hostname, username, password, remotefolder, molnumber, Excited_state, mollist_name, gjf_file)\u001b[0m\n\u001b[1;32m    180\u001b[0m         \u001b[0;31m# Show the standard output and error of our job\u001b[0m\u001b[0;34m\u001b[0m\u001b[0;34m\u001b[0m\u001b[0;34m\u001b[0m\u001b[0m\n\u001b[1;32m    181\u001b[0m         \u001b[0mprint\u001b[0m\u001b[0;34m(\u001b[0m\u001b[0;34m\"Standard error:\"\u001b[0m\u001b[0;34m)\u001b[0m\u001b[0;34m\u001b[0m\u001b[0;34m\u001b[0m\u001b[0m\n\u001b[0;32m--> 182\u001b[0;31m         \u001b[0mprint\u001b[0m\u001b[0;34m(\u001b[0m\u001b[0mstderr\u001b[0m\u001b[0;34m.\u001b[0m\u001b[0mread\u001b[0m\u001b[0;34m(\u001b[0m\u001b[0;34m)\u001b[0m\u001b[0;34m)\u001b[0m\u001b[0;34m\u001b[0m\u001b[0;34m\u001b[0m\u001b[0m\n\u001b[0m\u001b[1;32m    183\u001b[0m         \u001b[0mprint\u001b[0m\u001b[0;34m(\u001b[0m\u001b[0;34m\"Exit status: {}\"\u001b[0m\u001b[0;34m.\u001b[0m\u001b[0mformat\u001b[0m\u001b[0;34m(\u001b[0m\u001b[0mstdout\u001b[0m\u001b[0;34m.\u001b[0m\u001b[0mchannel\u001b[0m\u001b[0;34m.\u001b[0m\u001b[0mrecv_exit_status\u001b[0m\u001b[0;34m(\u001b[0m\u001b[0;34m)\u001b[0m\u001b[0;34m)\u001b[0m\u001b[0;34m)\u001b[0m\u001b[0;34m\u001b[0m\u001b[0;34m\u001b[0m\u001b[0m\n\u001b[1;32m    184\u001b[0m \u001b[0;34m\u001b[0m\u001b[0m\n",
      "\u001b[0;32m~/anaconda3/envs/Bsc_Project/lib/python3.7/site-packages/paramiko/file.py\u001b[0m in \u001b[0;36mread\u001b[0;34m(self, size)\u001b[0m\n\u001b[1;32m    198\u001b[0m             \u001b[0;32mwhile\u001b[0m \u001b[0;32mTrue\u001b[0m\u001b[0;34m:\u001b[0m\u001b[0;34m\u001b[0m\u001b[0;34m\u001b[0m\u001b[0m\n\u001b[1;32m    199\u001b[0m                 \u001b[0;32mtry\u001b[0m\u001b[0;34m:\u001b[0m\u001b[0;34m\u001b[0m\u001b[0;34m\u001b[0m\u001b[0m\n\u001b[0;32m--> 200\u001b[0;31m                     \u001b[0mnew_data\u001b[0m \u001b[0;34m=\u001b[0m \u001b[0mself\u001b[0m\u001b[0;34m.\u001b[0m\u001b[0m_read\u001b[0m\u001b[0;34m(\u001b[0m\u001b[0mself\u001b[0m\u001b[0;34m.\u001b[0m\u001b[0m_DEFAULT_BUFSIZE\u001b[0m\u001b[0;34m)\u001b[0m\u001b[0;34m\u001b[0m\u001b[0;34m\u001b[0m\u001b[0m\n\u001b[0m\u001b[1;32m    201\u001b[0m                 \u001b[0;32mexcept\u001b[0m \u001b[0mEOFError\u001b[0m\u001b[0;34m:\u001b[0m\u001b[0;34m\u001b[0m\u001b[0;34m\u001b[0m\u001b[0m\n\u001b[1;32m    202\u001b[0m                     \u001b[0mnew_data\u001b[0m \u001b[0;34m=\u001b[0m \u001b[0;32mNone\u001b[0m\u001b[0;34m\u001b[0m\u001b[0;34m\u001b[0m\u001b[0m\n",
      "\u001b[0;32m~/anaconda3/envs/Bsc_Project/lib/python3.7/site-packages/paramiko/channel.py\u001b[0m in \u001b[0;36m_read\u001b[0;34m(self, size)\u001b[0m\n\u001b[1;32m   1374\u001b[0m \u001b[0;34m\u001b[0m\u001b[0m\n\u001b[1;32m   1375\u001b[0m     \u001b[0;32mdef\u001b[0m \u001b[0m_read\u001b[0m\u001b[0;34m(\u001b[0m\u001b[0mself\u001b[0m\u001b[0;34m,\u001b[0m \u001b[0msize\u001b[0m\u001b[0;34m)\u001b[0m\u001b[0;34m:\u001b[0m\u001b[0;34m\u001b[0m\u001b[0;34m\u001b[0m\u001b[0m\n\u001b[0;32m-> 1376\u001b[0;31m         \u001b[0;32mreturn\u001b[0m \u001b[0mself\u001b[0m\u001b[0;34m.\u001b[0m\u001b[0mchannel\u001b[0m\u001b[0;34m.\u001b[0m\u001b[0mrecv_stderr\u001b[0m\u001b[0;34m(\u001b[0m\u001b[0msize\u001b[0m\u001b[0;34m)\u001b[0m\u001b[0;34m\u001b[0m\u001b[0;34m\u001b[0m\u001b[0m\n\u001b[0m\u001b[1;32m   1377\u001b[0m \u001b[0;34m\u001b[0m\u001b[0m\n\u001b[1;32m   1378\u001b[0m     \u001b[0;32mdef\u001b[0m \u001b[0m_write\u001b[0m\u001b[0;34m(\u001b[0m\u001b[0mself\u001b[0m\u001b[0;34m,\u001b[0m \u001b[0mdata\u001b[0m\u001b[0;34m)\u001b[0m\u001b[0;34m:\u001b[0m\u001b[0;34m\u001b[0m\u001b[0;34m\u001b[0m\u001b[0m\n",
      "\u001b[0;32m~/anaconda3/envs/Bsc_Project/lib/python3.7/site-packages/paramiko/channel.py\u001b[0m in \u001b[0;36mrecv_stderr\u001b[0;34m(self, nbytes)\u001b[0m\n\u001b[1;32m    745\u001b[0m         \"\"\"\n\u001b[1;32m    746\u001b[0m         \u001b[0;32mtry\u001b[0m\u001b[0;34m:\u001b[0m\u001b[0;34m\u001b[0m\u001b[0;34m\u001b[0m\u001b[0m\n\u001b[0;32m--> 747\u001b[0;31m             \u001b[0mout\u001b[0m \u001b[0;34m=\u001b[0m \u001b[0mself\u001b[0m\u001b[0;34m.\u001b[0m\u001b[0min_stderr_buffer\u001b[0m\u001b[0;34m.\u001b[0m\u001b[0mread\u001b[0m\u001b[0;34m(\u001b[0m\u001b[0mnbytes\u001b[0m\u001b[0;34m,\u001b[0m \u001b[0mself\u001b[0m\u001b[0;34m.\u001b[0m\u001b[0mtimeout\u001b[0m\u001b[0;34m)\u001b[0m\u001b[0;34m\u001b[0m\u001b[0;34m\u001b[0m\u001b[0m\n\u001b[0m\u001b[1;32m    748\u001b[0m         \u001b[0;32mexcept\u001b[0m \u001b[0mPipeTimeout\u001b[0m\u001b[0;34m:\u001b[0m\u001b[0;34m\u001b[0m\u001b[0;34m\u001b[0m\u001b[0m\n\u001b[1;32m    749\u001b[0m             \u001b[0;32mraise\u001b[0m \u001b[0msocket\u001b[0m\u001b[0;34m.\u001b[0m\u001b[0mtimeout\u001b[0m\u001b[0;34m(\u001b[0m\u001b[0;34m)\u001b[0m\u001b[0;34m\u001b[0m\u001b[0;34m\u001b[0m\u001b[0m\n",
      "\u001b[0;32m~/anaconda3/envs/Bsc_Project/lib/python3.7/site-packages/paramiko/buffered_pipe.py\u001b[0m in \u001b[0;36mread\u001b[0;34m(self, nbytes, timeout)\u001b[0m\n\u001b[1;32m    158\u001b[0m                 \u001b[0;32mwhile\u001b[0m \u001b[0;34m(\u001b[0m\u001b[0mlen\u001b[0m\u001b[0;34m(\u001b[0m\u001b[0mself\u001b[0m\u001b[0;34m.\u001b[0m\u001b[0m_buffer\u001b[0m\u001b[0;34m)\u001b[0m \u001b[0;34m==\u001b[0m \u001b[0;36m0\u001b[0m\u001b[0;34m)\u001b[0m \u001b[0;32mand\u001b[0m \u001b[0;32mnot\u001b[0m \u001b[0mself\u001b[0m\u001b[0;34m.\u001b[0m\u001b[0m_closed\u001b[0m\u001b[0;34m:\u001b[0m\u001b[0;34m\u001b[0m\u001b[0;34m\u001b[0m\u001b[0m\n\u001b[1;32m    159\u001b[0m                     \u001b[0mthen\u001b[0m \u001b[0;34m=\u001b[0m \u001b[0mtime\u001b[0m\u001b[0;34m.\u001b[0m\u001b[0mtime\u001b[0m\u001b[0;34m(\u001b[0m\u001b[0;34m)\u001b[0m\u001b[0;34m\u001b[0m\u001b[0;34m\u001b[0m\u001b[0m\n\u001b[0;32m--> 160\u001b[0;31m                     \u001b[0mself\u001b[0m\u001b[0;34m.\u001b[0m\u001b[0m_cv\u001b[0m\u001b[0;34m.\u001b[0m\u001b[0mwait\u001b[0m\u001b[0;34m(\u001b[0m\u001b[0mtimeout\u001b[0m\u001b[0;34m)\u001b[0m\u001b[0;34m\u001b[0m\u001b[0;34m\u001b[0m\u001b[0m\n\u001b[0m\u001b[1;32m    161\u001b[0m                     \u001b[0;32mif\u001b[0m \u001b[0mtimeout\u001b[0m \u001b[0;32mis\u001b[0m \u001b[0;32mnot\u001b[0m \u001b[0;32mNone\u001b[0m\u001b[0;34m:\u001b[0m\u001b[0;34m\u001b[0m\u001b[0;34m\u001b[0m\u001b[0m\n\u001b[1;32m    162\u001b[0m                         \u001b[0mtimeout\u001b[0m \u001b[0;34m-=\u001b[0m \u001b[0mtime\u001b[0m\u001b[0;34m.\u001b[0m\u001b[0mtime\u001b[0m\u001b[0;34m(\u001b[0m\u001b[0;34m)\u001b[0m \u001b[0;34m-\u001b[0m \u001b[0mthen\u001b[0m\u001b[0;34m\u001b[0m\u001b[0;34m\u001b[0m\u001b[0m\n",
      "\u001b[0;32m~/anaconda3/envs/Bsc_Project/lib/python3.7/threading.py\u001b[0m in \u001b[0;36mwait\u001b[0;34m(self, timeout)\u001b[0m\n\u001b[1;32m    294\u001b[0m         \u001b[0;32mtry\u001b[0m\u001b[0;34m:\u001b[0m    \u001b[0;31m# restore state no matter what (e.g., KeyboardInterrupt)\u001b[0m\u001b[0;34m\u001b[0m\u001b[0;34m\u001b[0m\u001b[0m\n\u001b[1;32m    295\u001b[0m             \u001b[0;32mif\u001b[0m \u001b[0mtimeout\u001b[0m \u001b[0;32mis\u001b[0m \u001b[0;32mNone\u001b[0m\u001b[0;34m:\u001b[0m\u001b[0;34m\u001b[0m\u001b[0;34m\u001b[0m\u001b[0m\n\u001b[0;32m--> 296\u001b[0;31m                 \u001b[0mwaiter\u001b[0m\u001b[0;34m.\u001b[0m\u001b[0macquire\u001b[0m\u001b[0;34m(\u001b[0m\u001b[0;34m)\u001b[0m\u001b[0;34m\u001b[0m\u001b[0;34m\u001b[0m\u001b[0m\n\u001b[0m\u001b[1;32m    297\u001b[0m                 \u001b[0mgotit\u001b[0m \u001b[0;34m=\u001b[0m \u001b[0;32mTrue\u001b[0m\u001b[0;34m\u001b[0m\u001b[0;34m\u001b[0m\u001b[0m\n\u001b[1;32m    298\u001b[0m             \u001b[0;32melse\u001b[0m\u001b[0;34m:\u001b[0m\u001b[0;34m\u001b[0m\u001b[0;34m\u001b[0m\u001b[0m\n",
      "\u001b[0;31mKeyboardInterrupt\u001b[0m: "
     ]
    }
   ],
   "source": [
    "\n",
    "status = \"Started\"\n",
    "print(\"Status = \", status)\n",
    "\n",
    "#conversion from smiles to gjf\n",
    "for mol_num in range(0,len(mol_list)):\n",
    "    mol_xyz = generate_XYZgeo_from_mol(mol_list, mol_list_name, mol_num)\n",
    "    for state_num in range(0,len(states)):\n",
    "        gjf_file = generate_Gjf_optfreqStates(mol_list, mol_list_name, mol_xyz, mol_num, states[state_num], charges[state_num], theodore = run_theodore)\n",
    "        generate_shfile_gaussian(walltime='36:00:01', memory=\"30gb\", ncpus=50, timeout=\"36h\", molnumber= mol_num,\n",
    "                             Excited_state = states[state_num], mollist_name= mol_list, gjf_file=gjf_file)\n",
    "        run_job_HPC(hostname = hostname,username = username, password = password, remotefolder = remote_folder,\\\n",
    "                             molnumber = mol_num, Excited_state = states[state_num],mollist_name= mol_list_name, gjf_file= gjf_file)\n",
    "        print(\"Queued job for: \",gjf_file)\n",
    "        os.remove(gjf_file+\".gjf\")\n",
    "        os.remove(gjf_file+\".sh\")\n",
    "        \n",
    "print(\"All Jobs uploaded\")  \n",
    "#check for completion\n",
    "status = check_for_completion(hostname, username, password, max_loops = 300, wait_time = 180)\n",
    "\n",
    "\n",
    "if status == \"Gaussian completed\":\n",
    "    Error_mol_list = []\n",
    "\n",
    "    for mol_num in range(0,len(mol_list)):\n",
    "        try:\n",
    "            for state_num in range(0,len(states),2):\n",
    "                initial_state = \"C\" + str(charges[state_num]) + \"S\" + str(states[state_num])\n",
    "                final_state = \"C\" + str(charges[state_num+1]) + \"S\" + str(states[state_num+1])\n",
    "\n",
    "\n",
    "                #transfer gaussian log to local to parse, store useful data, and then delete log file\n",
    "\n",
    "                mol_serial = mol_list_name+\"_\"+str(mol_num)+\"_\"+final_state\n",
    "                reading_gaussian_output(hostname, username, password, remote_folder, mol_serial)\n",
    "\n",
    "                #running and storing dushin\n",
    "                run_dushin(hostname, username, password, remote_folder, mol_list, mol_list_name, mol_num, initial_state, final_state)\n",
    "\n",
    "\n",
    "                filename = \"dushin\"+mol_list_name+\"_\"+str(mol_num)+\"_\"+initial_state+\"_\"+final_state+\".log\"\n",
    "                transfer_from_HPC(hostname, username, password, dushin_output_folder, filename)\n",
    "                reading_graphing_dushin_output(dushin_output_folder, filename)\n",
    "        except:\n",
    "            print(\"Dushin error for \",mol_list_name+\"_\"+str(mol_num))\n",
    "            Error_mol_list.append(mol_list_name+\"_\"+str(mol_num))\n",
    "        \n",
    "\n",
    "else:\n",
    "    print(status)\n",
    "\n",
    "\n",
    "\n",
    "\n",
    "\n",
    "\n",
    "    \n",
    "    "
   ]
  },
  {
   "cell_type": "code",
   "execution_count": 6,
   "id": "bcf3d12d",
   "metadata": {},
   "outputs": [],
   "source": [
    "mol_xyz = generate_XYZgeo_from_mol(mol_list, mol_list_name, 0)\n",
    "    "
   ]
  }
 ],
 "metadata": {
  "kernelspec": {
   "display_name": "Python 3",
   "language": "python",
   "name": "python3"
  },
  "language_info": {
   "codemirror_mode": {
    "name": "ipython",
    "version": 3
   },
   "file_extension": ".py",
   "mimetype": "text/x-python",
   "name": "python",
   "nbconvert_exporter": "python",
   "pygments_lexer": "ipython3",
   "version": "3.7.1"
  }
 },
 "nbformat": 4,
 "nbformat_minor": 5
}
