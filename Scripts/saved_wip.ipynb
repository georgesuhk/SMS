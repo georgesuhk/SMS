{
 "cells": [
  {
   "cell_type": "markdown",
   "id": "69a87681-1904-4deb-8ad4-e1313f4f88e9",
   "metadata": {},
   "source": [
    "## Saved work in progress code snippets"
   ]
  },
  {
   "cell_type": "code",
   "execution_count": 1,
   "id": "3871c6c7-1a79-4582-8c04-342304408238",
   "metadata": {},
   "outputs": [
    {
     "name": "stderr",
     "output_type": "stream",
     "text": [
      "RDKit WARNING: [12:02:37] Enabling RDKit 2019.09.3 jupyter extensions\n"
     ]
    }
   ],
   "source": [
    "from Gaussain_Dushin_modules import *"
   ]
  },
  {
   "cell_type": "markdown",
   "id": "2d0ca6e4-34d9-4f51-b397-f23219ff13d5",
   "metadata": {},
   "source": [
    "#### From trying to run with checkpoint file"
   ]
  },
  {
   "cell_type": "code",
   "execution_count": null,
   "id": "4c937a70-069d-4c6f-8926-a2daf648ce2f",
   "metadata": {},
   "outputs": [],
   "source": [
    "def generate_Gjf_checkpoint(mol_charge_state, Excited_state, output_folder = os.getcwd()+\"/\", \n",
    "                          functional_basisset='b3lyp/6-311g(d,p)', number_of_procc='32', memory='30GB'):\n",
    "    # generate gjf for running theodore to identify CT states\n",
    "    # Will only run TDDFT\n",
    "\n",
    "    #write the gaussian file\n",
    "\n",
    "    \n",
    "    a_str_gaussian=\"0 1\\n\"\n",
    "    a_str_gaussian=mol_charge_state + \" theodore\\n\\n\"+a_str_gaussian\n",
    "    \n",
    "    a_str_gaussian=\"#p nosymm Geom=Checkpoint pop=full iop(9/40=3) td(NStates=20)  \"+functional_basisset+\"\\n\\n\"+a_str_gaussian\n",
    "        \n",
    "    a_str_gaussian=\"%nprocshared=\"+number_of_procc+\"\\n\\n\"+a_str_gaussian\n",
    "    a_str_gaussian=\"%mem=\"+memory+\"\\n\"+a_str_gaussian\n",
    "    #a_str_gaussian=\"%chk=\"+mol_charge_state+\".chk  \\n\"+a_str_gaussian\n",
    "    \n",
    "    a_str_gaussian=\"%chk=\"+mol_charge_state+\"_theodore.chk\\n\"+a_str_gaussian\n",
    "    a_str_gaussian=\"%oldchk=\"+mol_charge_state+\".chk\\n\"+a_str_gaussian\n",
    "    a_str_gaussian=a_str_gaussian+\"\\n\"\n",
    "\n",
    "    #print(a_str_gaussian)\n",
    "    text_file = open(output_folder+mol_charge_state+\".gjf\", \"wt\")\n",
    "    n = text_file.write(a_str_gaussian)\n",
    "    text_file.close()\n",
    "    return mol_charge_state\n",
    "\n",
    "\n",
    "def copy_checkpoint(hostname, username, password, remote_folder, remote_checkpoint_folder, mol_charge_state):\n",
    "\n",
    "\n",
    "    with paramiko.SSHClient() as client:\n",
    "        client.load_system_host_keys()\n",
    "        client.set_missing_host_key_policy(paramiko.WarningPolicy)\n",
    "        client.connect(hostname, username=username,password=password)\n",
    "\n",
    "        stdin, stdout, stderr = client.exec_command(\"mkdir -p \"+remote_checkpoint_folder+\" \\n\"+\n",
    "                                                    \"cd \"+remote_folder+\" \\n \"+\n",
    "                                                    \"cp \"+mol_charge_state+\".chk \"+remote_checkpoint_folder+\" \\n\"+\n",
    "                                                    \"cd \"+remote_checkpoint_folder+\" \\n \"+\n",
    "                                                    \"chmod +rwx \"+mol_charge_state+\".chk \\n\"\n",
    "                                                   )\n",
    "                                                    \n",
    "        print(\"Standard output:\")\n",
    "        print(stdout.read())\n",
    "        print(\"Standard error:\")\n",
    "        print(stderr.read())\n",
    "        print(\"Exit status: {}\".format(stdout.channel.recv_exit_status()))\n",
    "        client.close()\n",
    "        "
   ]
  },
  {
   "cell_type": "code",
   "execution_count": null,
   "id": "abab9975-43fd-4ac2-994f-8761e8e3644a",
   "metadata": {},
   "outputs": [],
   "source": [
    "#running job using checkpoint file\n",
    "\n",
    "status = \"Started\"\n",
    "print(\"Status = \", status)\n",
    "\n",
    "#conversion from smiles to gjf\n",
    "\n",
    "#for mol_num in range(0,len(mol_list)):\n",
    "for mol_num in [1]:\n",
    "    \n",
    "\n",
    "    for state_num in range(0,len(states)):\n",
    "        charge_state = \"C\" + str(charges[state_num]) + \"S\" + str(states[state_num])\n",
    "        mol_charge_state =  mol_list_name+\"_\"+str(mol_num)+\"_\"+charge_state\n",
    "        \n",
    "        #copy chk file into checkpoint so not be get overwritten\n",
    "        #copy_checkpoint(hostname, username, password, remote_folder, remote_checkpoint_folder, mol_charge_state)\n",
    "        \n",
    "        #writing gjf file based on .chk file\n",
    "        checkpoint_gjf = generate_Gjf_checkpoint(mol_charge_state, states[state_num])\n",
    "        generate_shfile_gaussian(walltime='7:59:01', memory=\"50gb\", ncpus=60, timeout=\"8h\", molnumber= mol_num,\n",
    "                             Excited_state = states[state_num], mollist_name= mol_list, gjf_file = checkpoint_gjf)\n",
    "        run_job_HPC(hostname = hostname,username = username, password = password, remotefolder = remote_checkpoint_folder,\\\n",
    "                             molnumber = mol_num, Excited_state = states[state_num],mollist_name= mol_list_name, gjf_file = checkpoint_gjf)\n",
    "\n",
    "            \n",
    "        print(\"Queued job for: \", mol_charge_state)\n",
    "        os.remove(mol_charge_state+\".gjf\")\n",
    "        os.remove(mol_charge_state+\".sh\")\n",
    "        \n",
    "print(\"All Jobs uploaded\")  "
   ]
  }
 ],
 "metadata": {
  "kernelspec": {
   "display_name": "Python [conda env:Bsc_Project]",
   "language": "python",
   "name": "conda-env-Bsc_Project-py"
  },
  "language_info": {
   "codemirror_mode": {
    "name": "ipython",
    "version": 3
   },
   "file_extension": ".py",
   "mimetype": "text/x-python",
   "name": "python",
   "nbconvert_exporter": "python",
   "pygments_lexer": "ipython3",
   "version": "3.7.1"
  }
 },
 "nbformat": 4,
 "nbformat_minor": 5
}
