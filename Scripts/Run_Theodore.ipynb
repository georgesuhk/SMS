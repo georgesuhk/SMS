{
 "cells": [
  {
   "cell_type": "code",
   "execution_count": 32,
   "id": "b9cccc32",
   "metadata": {},
   "outputs": [],
   "source": [
    "import subprocess\n",
    "from Theodore_modules import *\n",
    "\n",
    "\n",
    "#INPUTS ====================================================\n",
    "input_file = \"TT-PDI\"\n",
    "\n",
    "states = [1] #analyse using the first excited state\n",
    "charges = [0] #fixed at zero\n",
    "\n",
    "#============================================================\n",
    "#set once for each user ------------------------------------------------------\n",
    "hostname = 'login.hpc.ic.ac.uk'\n",
    "\n",
    "username = 'gs920'\n",
    "password= \"Illusions9\"\n",
    "\n",
    "#username = 'ma11115'\n",
    "#password = 'Baha140821'\n",
    "\n",
    "project_folder_name = \"Stage2/\"\n",
    "#project_folder_name = \"george_project/\"\n",
    "\n",
    "local_folder_base = \"/home/inferno/Bsc_Project/\"\n",
    "\n",
    "#-----------------------------------------------------------------------------\n",
    "\n",
    "#loading molecules from list\n",
    "#smiles_list = pd.read_csv('/home/inferno/Bsc_Project/chem_structures/'+input_file+\".csv\")\n",
    "#substructures_list = pd.read_csv('/home/inferno/Bsc_Project/chem_structures/'+input_file+\"_substruct.csv\")\n",
    "\n",
    "\n",
    "#folders\n",
    "\n",
    "smiles_list = pd.read_csv('/home/inferno/Bsc_Project/chem_structures/'+input_file+\".csv\")\n",
    "mol_list = smiles_list[\"name\"]\n",
    "mol_list_name = input_file\n",
    "\n",
    "\n",
    "#remote folders\n",
    "remote_base_folder =\"/rds/general/user/\"+username+\"/home/\"\n",
    "remote_project_folder = remote_base_folder+project_folder_name\n",
    "remote_bin_path = \"PATH=\"+remote_base_folder+\"bin:$PATH\"\n",
    "\n",
    "remote_folder = remote_project_folder+input_file+\"/\"\n",
    "remote_theodore_folder = remote_folder+\"theodore/\"\n",
    "\n",
    "\n",
    "#local folders\n",
    "xyz_folder = local_folder_base+\"Scripts/xyz_files/\"\n",
    "theodore_installation_folder = local_folder_base+\"TheoDORE_3.0/\"\n",
    "theodore_run_folder = local_folder_base+\"Scripts/Theodore_runs/\"\n",
    "\n",
    "\n",
    "    \n",
    "    "
   ]
  },
  {
   "cell_type": "code",
   "execution_count": 33,
   "id": "446c2f43",
   "metadata": {},
   "outputs": [
    {
     "name": "stderr",
     "output_type": "stream",
     "text": [
      "/home/inferno/anaconda3/envs/Learning/lib/python3.10/site-packages/paramiko/client.py:837: UserWarning: Unknown ssh-ed25519 host key for login.hpc.ic.ac.uk: b'e34c53f357c63885633fb0f904838138'\n",
      "  warnings.warn(\n"
     ]
    },
    {
     "name": "stdout",
     "output_type": "stream",
     "text": [
      "Theodore analysis completed for  TT-PDI_0\n"
     ]
    },
    {
     "name": "stderr",
     "output_type": "stream",
     "text": [
      "/home/inferno/anaconda3/envs/Learning/lib/python3.10/site-packages/paramiko/client.py:837: UserWarning: Unknown ssh-ed25519 host key for login.hpc.ic.ac.uk: b'e34c53f357c63885633fb0f904838138'\n",
      "  warnings.warn(\n"
     ]
    },
    {
     "name": "stdout",
     "output_type": "stream",
     "text": [
      "Theodore analysis completed for  TT-PDI_1\n"
     ]
    },
    {
     "name": "stderr",
     "output_type": "stream",
     "text": [
      "/home/inferno/anaconda3/envs/Learning/lib/python3.10/site-packages/paramiko/client.py:837: UserWarning: Unknown ssh-ed25519 host key for login.hpc.ic.ac.uk: b'e34c53f357c63885633fb0f904838138'\n",
      "  warnings.warn(\n"
     ]
    },
    {
     "name": "stdout",
     "output_type": "stream",
     "text": [
      "Theodore analysis completed for  TT-PDI_2\n"
     ]
    },
    {
     "name": "stderr",
     "output_type": "stream",
     "text": [
      "/home/inferno/anaconda3/envs/Learning/lib/python3.10/site-packages/paramiko/client.py:837: UserWarning: Unknown ssh-ed25519 host key for login.hpc.ic.ac.uk: b'e34c53f357c63885633fb0f904838138'\n",
      "  warnings.warn(\n"
     ]
    },
    {
     "name": "stdout",
     "output_type": "stream",
     "text": [
      "Theodore analysis completed for  TT-PDI_3\n"
     ]
    },
    {
     "name": "stderr",
     "output_type": "stream",
     "text": [
      "/home/inferno/anaconda3/envs/Learning/lib/python3.10/site-packages/paramiko/client.py:837: UserWarning: Unknown ssh-ed25519 host key for login.hpc.ic.ac.uk: b'e34c53f357c63885633fb0f904838138'\n",
      "  warnings.warn(\n"
     ]
    },
    {
     "name": "stdout",
     "output_type": "stream",
     "text": [
      "Theodore analysis completed for  TT-PDI_4\n"
     ]
    },
    {
     "name": "stderr",
     "output_type": "stream",
     "text": [
      "/home/inferno/anaconda3/envs/Learning/lib/python3.10/site-packages/paramiko/client.py:837: UserWarning: Unknown ssh-ed25519 host key for login.hpc.ic.ac.uk: b'e34c53f357c63885633fb0f904838138'\n",
      "  warnings.warn(\n"
     ]
    },
    {
     "name": "stdout",
     "output_type": "stream",
     "text": [
      "Theodore analysis completed for  TT-PDI_5\n"
     ]
    },
    {
     "name": "stderr",
     "output_type": "stream",
     "text": [
      "/home/inferno/anaconda3/envs/Learning/lib/python3.10/site-packages/paramiko/client.py:837: UserWarning: Unknown ssh-ed25519 host key for login.hpc.ic.ac.uk: b'e34c53f357c63885633fb0f904838138'\n",
      "  warnings.warn(\n"
     ]
    },
    {
     "name": "stdout",
     "output_type": "stream",
     "text": [
      "Theodore analysis completed for  TT-PDI_6\n"
     ]
    }
   ],
   "source": [
    "Error_mol_list = []\n",
    "for mol_num in range(0,len(mol_list)):\n",
    "#for mol_num in [0]:\n",
    "    for state_num in range(0,len(states)):\n",
    "        \n",
    "        state = \"C\" + str(charges[state_num]) + \"S\" + str(states[state_num])\n",
    "        mol_serial = mol_list_name+\"_\"+str(mol_num)\n",
    "        mol_serial_state = mol_list_name+\"_\"+str(mol_num)+\"_\"+state\n",
    "        log_file = mol_serial_state+\".log\"\n",
    "        \n",
    "        \n",
    "        transfer_from_HPC(hostname, username, password, theodore_run_folder, remote_theodore_folder, log_file)\n",
    "        generate_theodore_in(mol_serial, mol_serial_state, log_file, xyz_folder, theodore_run_folder)\n",
    "        \n",
    "        try:\n",
    "            \n",
    "            run_theodore(mol_serial_state,theodore_installation_folder, theodore_run_folder)\n",
    "            os.remove(theodore_run_folder+log_file)\n",
    "            print(\"Theodore analysis completed for \", mol_serial)\n",
    "            \n",
    "        except Exception as e:\n",
    "            os.remove(theodore_run_folder+log_file)\n",
    "            print(\"Theodore error for \",mol_serial_state)\n",
    "            print(e)\n",
    "            Error_mol_list.append(mol_serial_state)\n",
    "        \n",
    "    \n",
    "            \n",
    "\n"
   ]
  }
 ],
 "metadata": {
  "kernelspec": {
   "display_name": "Python [conda env:Learning]",
   "language": "python",
   "name": "conda-env-Learning-py"
  },
  "language_info": {
   "codemirror_mode": {
    "name": "ipython",
    "version": 3
   },
   "file_extension": ".py",
   "mimetype": "text/x-python",
   "name": "python",
   "nbconvert_exporter": "python",
   "pygments_lexer": "ipython3",
   "version": "3.10.6"
  }
 },
 "nbformat": 4,
 "nbformat_minor": 5
}
